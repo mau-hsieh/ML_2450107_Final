{
 "cells": [
  {
   "cell_type": "code",
   "execution_count": 12,
   "metadata": {},
   "outputs": [
    {
     "name": "stdout",
     "output_type": "stream",
     "text": [
      "Model loaded successfully.\n"
     ]
    }
   ],
   "source": [
    "import os\n",
    "import cv2\n",
    "import numpy as np\n",
    "import tensorflow as tf\n",
    "from PIL import Image, ImageDraw, ImageFont\n",
    "import numpy as np\n",
    "import matplotlib.pyplot as plt\n",
    "\n",
    "# 載入預訓練模型\n",
    "model = tf.keras.models.load_model('character_recognition_model_64x64.h5')\n",
    "print(\"Model loaded successfully.\")\n",
    "\n",
    "\n"
   ]
  },
  {
   "cell_type": "code",
   "execution_count": 13,
   "metadata": {},
   "outputs": [
    {
     "name": "stdout",
     "output_type": "stream",
     "text": [
      "1/1 [==============================] - 0s 51ms/step\n",
      "1/1 [==============================] - 0s 14ms/step\n",
      "1/1 [==============================] - 0s 16ms/step\n",
      "1/1 [==============================] - 0s 14ms/step\n",
      "1/1 [==============================] - 0s 16ms/step\n",
      "1/1 [==============================] - 0s 15ms/step\n",
      "Recognized Plate: 90a2vz\n"
     ]
    }
   ],
   "source": [
    "# 字符標籤對應函數\n",
    "def label_to_char(label):\n",
    "    if label < 10:\n",
    "        return chr(label + 48)  # 數字 0-9\n",
    "    elif 10 <= label < 36:\n",
    "        return chr(label + 55)  # 大寫字母 A-Z\n",
    "    else:\n",
    "        return chr(label + 61)  # 小寫字母 a-z\n",
    "# 單一圖像測試函數\n",
    "def test_image(file_path):\n",
    "    # 讀取圖像並調整大小\n",
    "    image = cv2.imread(file_path, cv2.IMREAD_GRAYSCALE)\n",
    "    resized_image = cv2.resize(image, (64, 64)) / 255.0  # 正規化\n",
    "    \n",
    "    # 預測\n",
    "    input_image = resized_image.reshape(1, 64, 64, 1)\n",
    "    prediction = model.predict(input_image)\n",
    "    predicted_label = np.argmax(prediction)\n",
    "    predicted_char = label_to_char(predicted_label)\n",
    "    \n",
    "    return predicted_char\n",
    "\n",
    "# 批量測試並組合結果\n",
    "def test_images_in_folder(folder_path):\n",
    "    # 讀取資料夾中的所有檔案\n",
    "    files = sorted(os.listdir(folder_path))\n",
    "    result = \"\"  # 儲存最終組合結果\n",
    "    for file in files:\n",
    "        file_path = os.path.join(folder_path, file)\n",
    "        predicted_char = test_image(file_path)\n",
    "        result += predicted_char  # 將每個預測的字符組合在一起\n",
    "    return result\n",
    "\n",
    "# 執行測試並顯示結果\n",
    "folder_path = \"output_segment\"\n",
    "final_result = test_images_in_folder(folder_path)\n",
    "print(f\"Recognized Plate: {final_result}\")"
   ]
  }
 ],
 "metadata": {
  "kernelspec": {
   "display_name": "gpu_test",
   "language": "python",
   "name": "python3"
  },
  "language_info": {
   "codemirror_mode": {
    "name": "ipython",
    "version": 3
   },
   "file_extension": ".py",
   "mimetype": "text/x-python",
   "name": "python",
   "nbconvert_exporter": "python",
   "pygments_lexer": "ipython3",
   "version": "3.9.18"
  }
 },
 "nbformat": 4,
 "nbformat_minor": 2
}
